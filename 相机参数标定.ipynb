{
 "cells": [
  {
   "cell_type": "markdown",
   "metadata": {},
   "source": [
    "一些针孔相机会给图像带来明显的失真。两种主要的变形是径向变形和切向变形。 径向变形会导致直线出现弯曲。\n",
    "\n",
    "距图像中心越远，径向畸变越大。例如，下面显示一个图像，其中棋盘的两个边缘用红线标记。但是，您会看到棋盘的边框不是直线，并且与红线不匹配。所有预期的直线都凸出"
   ]
  },
  {
   "cell_type": "markdown",
   "metadata": {},
   "source": [
    "相机的内在和外在参数。内部参数特定于摄像机。它们包括诸如焦距(fx，fy)和光学中心(cx,cy)之类的信息。焦距和光学中心可用于创建相机矩阵，该相机矩阵可用于消除由于特定相机镜头而引起的畸变。相机矩阵对于特定相机而言是唯一的，因此一旦计算出，就可以在同一相机拍摄的其他图像上重复使用。它表示为3x3矩阵：\n",
    "外在参数对应于旋转和平移矢量，其将3D点的坐标平移为坐标系。"
   ]
  },
  {
   "cell_type": "code",
   "execution_count": null,
   "metadata": {},
   "outputs": [],
   "source": []
  }
 ],
 "metadata": {
  "kernelspec": {
   "display_name": "Python 3",
   "language": "python",
   "name": "python3"
  },
  "language_info": {
   "codemirror_mode": {
    "name": "ipython",
    "version": 3
   },
   "file_extension": ".py",
   "mimetype": "text/x-python",
   "name": "python",
   "nbconvert_exporter": "python",
   "pygments_lexer": "ipython3",
   "version": "3.7.6"
  }
 },
 "nbformat": 4,
 "nbformat_minor": 4
}
